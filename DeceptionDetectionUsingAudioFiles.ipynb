{
 "cells": [
  {
   "cell_type": "markdown",
   "id": "0d38643b-b491-4107-8e10-82aa23161d53",
   "metadata": {},
   "source": [
    "# Mini-Project: Deception Detection using Machine Learning"
   ]
  },
  {
   "cell_type": "markdown",
   "id": "3c93bb2b-208c-4cd0-b814-9e65c2968667",
   "metadata": {},
   "source": [
    "## 1. Author\n",
    "\n",
    "#### Student Name: Mansi Sunil Jadhav\n",
    "#### Student ID: 240087524"
   ]
  },
  {
   "cell_type": "markdown",
   "id": "f723dc77-1359-4590-8162-167963201e05",
   "metadata": {},
   "source": [
    "## 2. Problem Formulation:\n",
    "\n",
    "We aim to develop a machine learning model capable of distinguishing between true and deceptive audio stories. This **classification** task falls under **supervised learning** where the goal is to predict binary labels, truth or lie, by using the audio features extracted from the given recordings.\n",
    "\n",
    "Deception detection is an interesting problem to solve and has it's applications in law enforcement, behavioral study and security. Experts in the field can identify whether a person is lying by observing speech patterns, tone, etc. However, this is a manual process subject to human bias. Using machine learning, we can process large amounts of data in a matter of minutes and eliminate bias."
   ]
  },
  {
   "cell_type": "markdown",
   "id": "063407d7-90cc-4eb9-99e0-09382d2518d0",
   "metadata": {},
   "source": [
    "## 3. Methodology\n",
    "\n",
    "We will be following the **deployment first** approach for this project, which means we will first identify the problem, design the pipelines required, build the train, validation and test tasks and then collect the data, extract features and run those previously defined pipelines.\n",
    "\n",
    "We will be splitting our dataset into three parts: **train, validation and test**. We will leave the test dataset aside, this can be directly used at the end to test the final ML model.\n",
    "We'll first split the entire dataset into 80:20 ratio as train and test. Then, we can again split the training data (80% of total) into 85:15 ratio as train and validation.\n",
    "\n",
    "We will start by training various models using the training data and test them on the validation data. Depending on the results, we can choose the best family of models. We will also change the parameters under the selected family of models and choose the one that gives us best results. Once we're happy with our model, we can then train it on the entire dataset (training plus validation) and test it on the **unseen** test data.\n",
    "\n",
    "To choose the best performing model, we will plot the **Confusion Matrix** and print the **Classification Report**. These will help us get the below parameters:\n",
    "<br>**Accuracy**: We will most likely go for a model with a high accuracy on the validation dataset, as long as it is not overfitting*. \n",
    "<br>**Precision**: Precision will show us how often our model correctly predicts the positive class. It is the number of True Positives by the total number of positives (True and False Positives).\n",
    "<br>**Recall**: Recall will show us how many of the total positive instances were correctly predicted by the model.\n",
    "<br>**F1-score:** It is the harmonic mean of precision and recall and is especially used in case of imbalanced datasets.\n",
    "\n",
    "*Overfitting: The model would perform very well on training data, but will show poor performance on the validation/test data."
   ]
  },
  {
   "cell_type": "markdown",
   "id": "fc1a830c-129f-4df5-b51b-6b9936099a89",
   "metadata": {},
   "source": [
    "## 4. Implemented ML prediction pipelines\n",
    "\n",
    "The collected dataset consists of audio files of length between 2 to 4mins. For the purpose of our project, we will be splitting these audio files into chunks of 30 seconds each. \n",
    "Once we have the files, we will extract audio features from these files, go for feature engineering and dimensionality reduction. After that, we will split the dataset into train, validation and test. We will then build and train the machine learning model."
   ]
  },
  {
   "cell_type": "markdown",
   "id": "9262468c-bce2-4b78-a763-86eeaeb5d535",
   "metadata": {},
   "source": [
    "### 4.1 Transformation Stage\n",
    "\n",
    "**Input:** The input to this stage will be the path to the audio recordings or the .wav files and labels for each.\n",
    "\n",
    "We will first split all audio files into chunks of **30 seconds**. If the last chunk of the audio file is not exactly 30 seconds, we will check it's length. If it's more than 10 seconds, we will **overlap** it with the previous chunk, otherwise, we will **discard** the chunk. \n",
    "\n",
    "Once we have the 30 second chunks, we will **reduce the noise** in all these files so that it is easier to extract important features. \n",
    "<br>Then, we will extract below audio features using python libraries.\n",
    "1. **Power:** The rate at which sound energy is emitted could be an indicator of decpetion. Hence, we will extract this feature using the audio time series.\n",
    "2. **Pitch:** High pitch could be another indicator of deception. If the mean of the pitch of the speaker is higher than the baseline, we can say that the speaker is lying. Also, if the variablity in the pitch is high, this could also suggest nervousness which can be related to deception. Hence we're calculating mean and standard deviation of the pitch.\n",
    "3. **Voiced Fraction:** It is the likelihood that a specific audio frame contains voiced speech. This can help us calculate the fractions of audio that are voiced.\n",
    "4. **Silence Ratio:** This is different from voiced fraction. This tells us the amount of pauses the speaker takes while speaking. This could be an indicator of deception as one takes more pauses (shows hesitations in speech) while lying. \n",
    "5. **Zero-Crossing Rate:** ZCR measures the rate at which a signal changes sign (crosses the zero amplitude level). Hesitations in speech or sudden bursts of energy while talking can cause variations in ZCR. These may correlate with stress associated while speaking lies. \n",
    "6. **MFCC Features:** Mel frequency cepstral coefficients represent the spectral characteristics of an audio signal. Cepstral coefficients are accurate in pattern recognition problems related to human voice. Most of the important information is available in the first few coefficients. Hence, I've chosen 13 features for this project based on references.\n",
    "\n",
    "**Independence:** Once we have this final dataset, we can split it into train, validation and test datasets using **GroupShuffleSplit**. Note that we have given a **group ID** to each audio file and made sure that chunks of one file do not get split into different datasets. This ensures independence as all the chunks of one audio file will be present in only one dataset. \n",
    "\n",
    "**Scaling:** We're using **Standard Scaler** to scale all the features. This is because it transforms the mean to 0 and variance to 1. Many machine learning algorithms (e.g., logistic regression, SVMs, and neural networks) assume that the features are centered around zero and scaled to a similar range. StandardScaler ensures that all features contribute equally to the model by normalizing their magnitude. Without scaling, features with larger magnitudes might dominate the training process. We can use MinMaxScaler if we're going to use neural networks.\n",
    "\n",
    "**Dimensionality Reduction:** Handling high dimensional data can be computationally challenging, hence we will go for dimensionality reduction using **PCA**. This will reduce redundant or less relevant features while still capturing the essential structure. This will also help to avoid overfitting to our train data.\n",
    "\n",
    "**Output:** The ouput of this stage will be a feature matrix which can be used to train and test the model. "
   ]
  },
  {
   "cell_type": "markdown",
   "id": "39513be1-2672-49ce-8eb2-fdfd3e287e1c",
   "metadata": {},
   "source": [
    "### 4.2 Model Stage\n",
    "\n",
    "**Input:** Training and Test Datasets with final extracted features scaled to form a feature matrix. \n",
    "<br>**Model:** In this stage, we built a few different models, trained them on the training dataset and tested on the validation dataset. We tried using models such as Logistic Regression, SVM, Decision Tree Classifier and Random Forest Classifier. However, the simplest model of them all, **Logistic Regression** performed the best based on the calculated parameters as shared in the next section. Hence, we have used Logistic Regression in this case to visualise our results. Additionally, as we do not have a properly balanced dataset in our case, we have tried to use the **'class_weight=balanced'** parameter from Logistic Regression. This gave us a slightly better result than without balancing. Note that **LinearSVC** also performed quite well for our problem, but Logistic Regression gave a slightly higher precision and accuracy.\n",
    "<br> We have also tried different **solvers** under Logistic Regression like 'liblinear', 'saga', etc along with different **Regularization** techniques such as 'l1', 'l2' and 'elasticnet'. However, we saw similar results on these and opted to go for the default parameters. \n",
    "<br>**Output:** A trained model, ready to be used on the validation or test dataset."
   ]
  },
  {
   "cell_type": "markdown",
   "id": "d785ffe5-820c-4503-b579-cd6b9df6a6d2",
   "metadata": {},
   "source": [
    "### 4.3 Ensemble Stage\n",
    "\n",
    "We've tried a few ensemble models like **Random Forest Classifier** and boosting techniques like **Adaboost Classifier** and **Gradient Boost Classifier**. However, these models seem too complex for the dataset at hand. As we have a small dataset, these models are overfitting on the training data and performing poorly when presented with validation dataset. Hence, I've opted not to go for any ensemble methods in the final code. "
   ]
  },
  {
   "cell_type": "markdown",
   "id": "dd8f2ddf-0cbf-48d9-88c7-2ade050a32a4",
   "metadata": {},
   "source": [
    "## 5. Dataset\n",
    "\n",
    "My classmates and I have collected a dataset of around 600 audio recordings, 300 true and 300 deceptive. Each of these recordings are around 2-4mins long. Out of these, we have selected 100 recordings (50 true and 50 deceptive) for this project. We will split these audio recordings into chunks of 30 seconds as explained in the Transformation section and then extract audio features from these as shown below. "
   ]
  },
  {
   "cell_type": "markdown",
   "id": "10768eed-c6ce-4940-8b16-c979ee32dbba",
   "metadata": {},
   "source": [
    "**We will install all the necessary libraries in this section before starting the code.**\n",
    "<br>**Please uncomment below lines of code if you do not have these libraries installed.**"
   ]
  },
  {
   "cell_type": "code",
   "execution_count": 118,
   "id": "fe4c9645-befc-482b-9dea-75842e061c5a",
   "metadata": {},
   "outputs": [],
   "source": [
    "# pip install mlend==1.0.0.4"
   ]
  },
  {
   "cell_type": "code",
   "execution_count": 119,
   "id": "abc5b41b-5df9-429c-b0fc-0e4bab3471d0",
   "metadata": {},
   "outputs": [],
   "source": [
    "# pip install librosa"
   ]
  },
  {
   "cell_type": "code",
   "execution_count": 120,
   "id": "ad0fef39-cf2b-42a2-9018-8e8187782f23",
   "metadata": {},
   "outputs": [],
   "source": [
    "# pip install pydub"
   ]
  },
  {
   "cell_type": "code",
   "execution_count": 121,
   "id": "1810cc88-5b9b-4ebb-b01d-7422e64f096c",
   "metadata": {},
   "outputs": [],
   "source": [
    "# pip install soundfile"
   ]
  },
  {
   "cell_type": "code",
   "execution_count": 122,
   "id": "7a40ff2a-1002-4781-b26c-51889d8847d8",
   "metadata": {},
   "outputs": [],
   "source": [
    "# pip install noisereduce"
   ]
  },
  {
   "cell_type": "code",
   "execution_count": 123,
   "id": "031cb132-5570-4fe7-9fcd-21690d9104b6",
   "metadata": {},
   "outputs": [
    {
     "name": "stdout",
     "output_type": "stream",
     "text": [
      "Downloading 100 stories (audio files) from https://github.com/MLEndDatasets/Deception\n",
      "100%|\u001b[92m▓▓▓▓▓▓▓▓▓▓▓▓▓▓▓▓▓▓▓▓▓▓▓▓▓▓▓▓▓▓▓▓▓▓▓▓▓▓▓▓▓▓▓▓▓▓▓▓▓▓\u001b[0m|100\\100|00100.wav\n",
      "Done!\n",
      "Total 100 found in MLEnd/deception/MLEndDD_stories_small/\n"
     ]
    },
    {
     "data": {
      "text/html": [
       "<div>\n",
       "<style scoped>\n",
       "    .dataframe tbody tr th:only-of-type {\n",
       "        vertical-align: middle;\n",
       "    }\n",
       "\n",
       "    .dataframe tbody tr th {\n",
       "        vertical-align: top;\n",
       "    }\n",
       "\n",
       "    .dataframe thead th {\n",
       "        text-align: right;\n",
       "    }\n",
       "</style>\n",
       "<table border=\"1\" class=\"dataframe\">\n",
       "  <thead>\n",
       "    <tr style=\"text-align: right;\">\n",
       "      <th></th>\n",
       "      <th>X_paths</th>\n",
       "      <th>Y</th>\n",
       "    </tr>\n",
       "  </thead>\n",
       "  <tbody>\n",
       "    <tr>\n",
       "      <th>0</th>\n",
       "      <td>MLEnd/deception/MLEndDD_stories_small/00001.wav</td>\n",
       "      <td>1</td>\n",
       "    </tr>\n",
       "    <tr>\n",
       "      <th>1</th>\n",
       "      <td>MLEnd/deception/MLEndDD_stories_small/00002.wav</td>\n",
       "      <td>0</td>\n",
       "    </tr>\n",
       "    <tr>\n",
       "      <th>2</th>\n",
       "      <td>MLEnd/deception/MLEndDD_stories_small/00003.wav</td>\n",
       "      <td>1</td>\n",
       "    </tr>\n",
       "    <tr>\n",
       "      <th>3</th>\n",
       "      <td>MLEnd/deception/MLEndDD_stories_small/00004.wav</td>\n",
       "      <td>1</td>\n",
       "    </tr>\n",
       "    <tr>\n",
       "      <th>4</th>\n",
       "      <td>MLEnd/deception/MLEndDD_stories_small/00005.wav</td>\n",
       "      <td>1</td>\n",
       "    </tr>\n",
       "  </tbody>\n",
       "</table>\n",
       "</div>"
      ],
      "text/plain": [
       "                                           X_paths  Y\n",
       "0  MLEnd/deception/MLEndDD_stories_small/00001.wav  1\n",
       "1  MLEnd/deception/MLEndDD_stories_small/00002.wav  0\n",
       "2  MLEnd/deception/MLEndDD_stories_small/00003.wav  1\n",
       "3  MLEnd/deception/MLEndDD_stories_small/00004.wav  1\n",
       "4  MLEnd/deception/MLEndDD_stories_small/00005.wav  1"
      ]
     },
     "execution_count": 123,
     "metadata": {},
     "output_type": "execute_result"
    }
   ],
   "source": [
    "import mlend\n",
    "from mlend import download_deception_small, deception_small_load\n",
    "\n",
    "datadir = download_deception_small(save_to='MLEnd', subset={}, verbose=1, overwrite=False)\n",
    "\n",
    "df, _, MAPs = deception_small_load(datadir_main=datadir, train_test_split=None, verbose=1, encode_labels=True)\n",
    "\n",
    "import numpy as np\n",
    "import pandas as pd\n",
    "\n",
    "df = pd.DataFrame(df)   # Converting it to a DataFrame for better visualisation\n",
    "df.drop('Y', axis=1, inplace=True)\n",
    "df.rename(columns={'Y_encoded': 'Y'}, inplace=True)\n",
    "df.head()"
   ]
  },
  {
   "cell_type": "code",
   "execution_count": 124,
   "id": "5795bd4d-df10-4186-9198-f13240fc8b01",
   "metadata": {},
   "outputs": [],
   "source": [
    "from pydub import AudioSegment\n",
    "import librosa\n",
    "import glob\n",
    "\n",
    "import warnings\n",
    "warnings.filterwarnings(\"ignore\")\n",
    "\n",
    "def split_audio(file_paths, labels, new_file_paths, new_labels, group, segment_length=30000, min_threshold=10000, output_folder='MLEnd/deception/split_audios'):\n",
    "    for file_path, labels in zip(file_paths, labels):  # We loop through the file paths and labels for the input audio files - 2 to 4mins long\n",
    "        with open(file_path, 'rb') as file:\n",
    "            audio = AudioSegment.from_file(file_path)  # Load the audio file\n",
    "            total_length = len(audio)\n",
    "        \n",
    "            chunks = []  # Chunks of 30secs eah\n",
    "            for start_time in range(0, total_length, segment_length):  # segment length will be 30secs\n",
    "                end_time = min(start_time + segment_length, total_length) # End time will be the end time of the audio (total length) in case of the last chunk\n",
    "                chunk = audio[start_time:end_time] # Get the chunk\n",
    "                chunks.append(chunk)\n",
    "            \n",
    "            if len(chunks[-1]) < segment_length:  # Handling the last chunk\n",
    "                if len(chunks[-1]) > min_threshold:  # Overlap in case the length is greater than the minimum threshold - 10secs in our case\n",
    "                    overlap_start = max(0, total_length - segment_length)  # Overlap such that the start of the chunk will be grabbed from end of the previous chunk\n",
    "                    chunks[-1] = audio[overlap_start:total_length]  \n",
    "                else:\n",
    "                    chunks.pop(-1) # Discard the last chunk if it is too short\n",
    "            \n",
    "            for i, chunk in enumerate(chunks):\n",
    "                output_path = f\"{output_folder}/{file_path[-9:-4]}_{i}.wav\"   # Define names for the new files\n",
    "                new_file_paths.append(output_path)  # Store the new file paths\n",
    "                new_labels.append(labels) # Store the labels for each chunk\n",
    "                group.append(f\"{file_path[-7:-4]}\")  # Assign a group ID for each chunk\n",
    "                with open(output_path, 'wb') as out_file:\n",
    "                    chunk.export(output_path, format=\"wav\")  # Creates the new files in the output folder\n",
    "                    \n",
    "    print(f\"{len(new_file_paths)} total chunks created after splitting.\")\n",
    "    \n",
    "    return new_file_paths, new_labels, group"
   ]
  },
  {
   "cell_type": "code",
   "execution_count": 125,
   "id": "8259f308-9ec8-41fc-ad82-ef9511bdd104",
   "metadata": {},
   "outputs": [],
   "source": [
    "import noisereduce as nr\n",
    "import soundfile as sf \n",
    "\n",
    "def reduce_noise(filepaths):\n",
    "    count = 0\n",
    "    for file in filepaths:\n",
    "        count +=1\n",
    "        y, sr = librosa.load(file)  # Load the file and get audio time series and sampling rate\n",
    "        y_denoised = nr.reduce_noise(y=y, sr=sr)  # USe the predefined function from noisereduce library\n",
    "        sf.write(file, y_denoised, sr)  # We will replace the files with denoised files\n",
    "    print(f\"Noise reduction for {count} files completed.\")"
   ]
  },
  {
   "cell_type": "code",
   "execution_count": 126,
   "id": "186c6c3e-bba5-40e3-96a6-0ad2a50643cb",
   "metadata": {},
   "outputs": [],
   "source": [
    "def get_power_pitch_voiced_fr(y,sr,frame_length,hop_length):\n",
    "    f0, voiced_flag, voiced_probs = librosa.pyin(y=y, fmin=80, fmax=450, sr=sr, frame_length=frame_length,hop_length=hop_length) \n",
    "    # f0 - time series of fundamental frequencies in Hertz\n",
    "    # voiced flag - time series containing boolean flags indicating whether a frame is voiced or not.\n",
    "    # voiced prob - time series containing the probability that a frame is voiced.\n",
    "    power = np.sum(y**2)/len(y)  # Calculate the power of the audio signal\n",
    "    pitch_mean = np.nanmean(f0) if np.mean(np.isnan(f0))<1 else 0  # Get mean of the pitch\n",
    "    pitch_std  = np.nanstd(f0) if np.mean(np.isnan(f0))<1 else 0  # Get standard deviation of the pitch\n",
    "    voiced_fr = np.mean(voiced_flag)   # Get the fraction of segments that are voiced in the audio\n",
    "    \n",
    "    return power, pitch_mean, pitch_std, voiced_fr\n",
    "\n",
    "def get_zero_crossing_rate(y, frame_length, hop_length):\n",
    "    zcr = librosa.feature.zero_crossing_rate(y)  # Predefined function from librosa to calculate ZCR\n",
    "    zcr_mean = np.mean(zcr)  # Mean of ZCR\n",
    "    zcr_std = np.std(zcr)   # Standard Deviation of ZCR\n",
    "    return zcr_mean,zcr_std\n",
    "\n",
    "def get_mfcc_features(y, sr, n_mfcc=13):\n",
    "    mfcc = librosa.feature.mfcc(y=y, sr=sr, n_mfcc=n_mfcc)  # Predefined function from librosa to calculate MFCC\n",
    "    mfcc_mean = np.mean(mfcc, axis=1)  # Returns n means of all mfcc features\n",
    "    mfcc_std = np.std(mfcc, axis=1)    # Returns n Standard deviations of mfcc features\n",
    "    return mfcc_mean, mfcc_std\n",
    "\n",
    "def get_silence_ratio(y, sr, frame_length, hop_length, total_audio_duration, silence_threshold=-40,):\n",
    "    non_silent_intervals = librosa.effects.split(y, top_db=abs(silence_threshold), frame_length=frame_length, hop_length=hop_length) # Calculate the non silent intervals\n",
    "    silences = []\n",
    "    for i in range(1, len(non_silent_intervals)):\n",
    "        silence_start = non_silent_intervals[i-1][1]   # Start of silence\n",
    "        silence_end = non_silent_intervals[i][0]    # End of silence or start of voiced region\n",
    "        silence_duration = (silence_end - silence_start) / sr  # Amount of time the speaker was silent\n",
    "        silences.append(silence_duration)   # Get all such instances\n",
    "\n",
    "    total_silence_duration = sum(silences)    # Total duration when the speaker was silent throughout the audio\n",
    "    silence_ratio = total_silence_duration / (total_audio_duration)\n",
    "\n",
    "    return silence_ratio"
   ]
  },
  {
   "cell_type": "code",
   "execution_count": 127,
   "id": "e6aa92c4-bcf9-4802-afc9-77f87b773113",
   "metadata": {},
   "outputs": [],
   "source": [
    "from tqdm import tqdm\n",
    "\n",
    "def get_X(files):\n",
    "    X = []\n",
    "    \n",
    "    for file in tqdm(files):\n",
    "    \n",
    "        fs = 22050 # Default\n",
    "        winLen=0.02\n",
    "        p = winLen*fs\n",
    "        frame_length = int(2**int(p-1).bit_length())\n",
    "        hop_length = frame_length//2\n",
    "        \n",
    "        y, sr = librosa.load(file,sr=fs)  # y - audio time series, sr - sampling rate of y\n",
    "        y = y/np.max(np.abs(y))  # Scaled y\n",
    "    \n",
    "        power, pitch_mean, pitch_std, voiced_fr = get_power_pitch_voiced_fr(y,sr,frame_length,hop_length)\n",
    "    \n",
    "        zcr_mean,zcr_std = get_zero_crossing_rate(y=y, frame_length=frame_length, hop_length=hop_length)\n",
    "        \n",
    "        total_audio_duration = 30.0  # We've split the files such that all the files are 30 second long\n",
    "        silence_ratio = get_silence_ratio(y, sr, frame_length, hop_length, total_audio_duration)\n",
    "\n",
    "        n_mfcc=13\n",
    "        mfcc_mean,mfcc_std = get_mfcc_features(y, sr, n_mfcc)\n",
    "    \n",
    "        xi = [power,pitch_mean,pitch_std,voiced_fr,zcr_mean,zcr_std,silence_ratio,*mfcc_mean, *mfcc_std] # Get all the features into one single object.\n",
    "        X.append(xi)\n",
    "        \n",
    "    return X"
   ]
  },
  {
   "cell_type": "code",
   "execution_count": 128,
   "id": "863a9a94-ba0e-4178-8172-746ff2b9412f",
   "metadata": {},
   "outputs": [],
   "source": [
    "from sklearn.model_selection import GroupShuffleSplit\n",
    "\n",
    "def split_dataset(X, y, groups, test_size=0.2):  # Input will be the features X, labels y and the groups for every audio file. \n",
    "    if not isinstance(X, pd.DataFrame):   # Convert to a Dataframe if not already done. This is only for simplicity of the task. We can also continue without this using a different approach.\n",
    "        X = pd.DataFrame(X)\n",
    "    if not isinstance(y, pd.DataFrame):\n",
    "        y = pd.DataFrame(y)\n",
    "    if not isinstance(groups, pd.DataFrame):\n",
    "        groups = pd.DataFrame(groups)\n",
    "    \n",
    "# GroupShuffleSplit splits the dataset such that the chunks from one group are all assigned to one particular dataset. \n",
    "    gss = GroupShuffleSplit(test_size=test_size, n_splits=1, random_state=42)  # Split the entire dataset into train and test.\n",
    "    for train_idx, test_idx in gss.split(X, y, groups):  # gss.split returns the indices to split the data -> Loop through these indices\n",
    "        X_train, X_test = X.iloc[train_idx], X.iloc[test_idx]    # Split X to get train and test sets\n",
    "        y_train, y_test = y.iloc[train_idx], y.iloc[test_idx]    # Split y to get train and test sets\n",
    "        groups_train = groups.iloc[train_idx]      # We also split the groups, so that we can use it for the validation dataset.\n",
    "\n",
    "    return X_train, X_test, y_train, y_test, groups_train"
   ]
  },
  {
   "cell_type": "code",
   "execution_count": 129,
   "id": "3fd0161f-9328-46ea-be40-c18e67456e63",
   "metadata": {},
   "outputs": [],
   "source": [
    "from sklearn.preprocessing import StandardScaler\n",
    "\n",
    "def scale_data(X_train, X_test):\n",
    "    \n",
    "    scaler = StandardScaler()  # Create an instance of the standard scaler\n",
    "\n",
    "    scaler.fit(X_train)  # Note that we're only fitting on the train data. We will not fit on the validation or test data to avoid data leakage.\n",
    "\n",
    "    X_train_scaled = scaler.transform(X_train) # Transform the datasets\n",
    "    X_test_scaled = scaler.transform(X_test)\n",
    "\n",
    "    return X_train_scaled, X_test_scaled"
   ]
  },
  {
   "cell_type": "code",
   "execution_count": 130,
   "id": "9d3a675a-4a62-44d2-901e-b52a10bc95aa",
   "metadata": {},
   "outputs": [],
   "source": [
    "from sklearn.decomposition import PCA\n",
    "\n",
    "def apply_pca(X_train, X_test):\n",
    "\n",
    "    pca = PCA(random_state=42) # Initialize PCA\n",
    "    \n",
    "    pca.fit(X_train) # Note that again we're only fitting on the training data.\n",
    "\n",
    "    cumulative_variance = np.cumsum(pca.explained_variance_ratio_) # Calculate cumulative explained variance\n",
    "\n",
    "    # The explained_variance_ratio_ in PCA represents the proportion of the dataset's total variance that each principal component explains. \n",
    "    # It helps quantify how much information (or variability) in the data is captured by each component.\n",
    "\n",
    "    # We have set a minimum threshold of 95% for the cumulative variance\n",
    "    n_components = np.argmax(cumulative_variance >= 0.95) + 1    # Choose the smallest number of components that meets the threshold.\n",
    "    print(f\"Number of components for 95% variance: {n_components}\")\n",
    "\n",
    "    pca = PCA(n_components=n_components, random_state=42)  # Initialize PCA with calculated number of components\n",
    "    X_train_pca = pca.fit_transform(X_train)  # Fit on training data and transform both\n",
    "    X_test_pca = pca.transform(X_test)\n",
    "\n",
    "    return X_train_pca, X_test_pca"
   ]
  },
  {
   "cell_type": "code",
   "execution_count": 131,
   "id": "16802b50-9f74-430b-b304-70b84b1cc606",
   "metadata": {},
   "outputs": [],
   "source": [
    "from sklearn.linear_model import LogisticRegression\n",
    "from sklearn.metrics import confusion_matrix, ConfusionMatrixDisplay, classification_report\n",
    "\n",
    "def model_report(model, X_train, X_test, y_train, y_test):\n",
    "    model.fit(X_train, y_train)  # Take in the model as input -> Here we are using Logistic Regression after testing various models\n",
    "    preds = model.predict(X_test)  # Predict on the test/val dataset\n",
    "    ConfusionMatrixDisplay(confusion_matrix(y_test,preds)).plot()  # Plot the confusion matrix\n",
    "    print(classification_report(y_test, preds))  # Print the classification report"
   ]
  },
  {
   "cell_type": "markdown",
   "id": "43db8ddb-3f75-4c12-b4a2-f450320ab152",
   "metadata": {},
   "source": [
    "**Note:** Please create a folder 'MLEnd/deception/split_audios' to store the 30seconds files, else below code will give an error. "
   ]
  },
  {
   "cell_type": "code",
   "execution_count": 132,
   "id": "7735dd1a-c416-40e4-8d15-eb89839df0be",
   "metadata": {},
   "outputs": [
    {
     "name": "stdout",
     "output_type": "stream",
     "text": [
      "486 total chunks created after splitting.\n",
      "Noise reduction for 486 files completed.\n"
     ]
    },
    {
     "name": "stderr",
     "output_type": "stream",
     "text": [
      "100%|██████████| 486/486 [29:14<00:00,  3.61s/it]"
     ]
    },
    {
     "name": "stdout",
     "output_type": "stream",
     "text": [
      "486\n",
      "486\n",
      "486\n",
      "Number of components for 95% variance: 20\n",
      "Number of components for 95% variance: 21\n"
     ]
    },
    {
     "name": "stderr",
     "output_type": "stream",
     "text": [
      "\n"
     ]
    }
   ],
   "source": [
    "X, y, groups = [], [], []\n",
    "\n",
    "X, y, groups = split_audio(df['X_paths'], df['Y'], X, y, groups)   # Get the paths of 30secs audio files, their labels and groups\n",
    "\n",
    "reduce_noise(X)  # Reduce the noise in each file\n",
    "\n",
    "X = get_X(X)  # Extract the features from all audio files - This is a dataframe\n",
    "print(len(X))\n",
    "print(len(y))\n",
    "print(len(groups))\n",
    "X_train_val, X_test, y_train_val, y_test, groups_train = split_dataset(X, y, groups, test_size=0.20)  # Split the dataset into train and test -> Train = train + val\n",
    "X_train, X_val, y_train, y_val, groups_train = split_dataset(X_train_val, y_train_val, groups_train, test_size=0.15)  # Split the training dataset into train and validation.\n",
    "\n",
    "# Validation Task\n",
    "X_train_scaled, X_val_scaled = scale_data(X_train, X_val)  # Scale all datasets\n",
    "\n",
    "X_train_pca, X_val_pca = apply_pca(X_train_scaled, X_val_scaled)  # Dimensionality Reduction\n",
    "\n",
    "# Testing Task\n",
    "X_train_val_scaled, X_test_scaled = scale_data(X_train_val, X_test)  # Scale the X_train_val dataset which is training and validation combined\n",
    "\n",
    "X_train_val_pca, X_test_pca = apply_pca(X_train_val_scaled, X_test_scaled)  # Dimensionality Reduction"
   ]
  },
  {
   "cell_type": "markdown",
   "id": "403a043f-b2a4-4efa-a969-64e4efdde716",
   "metadata": {},
   "source": [
    "## 6. Experiments and Results"
   ]
  },
  {
   "cell_type": "markdown",
   "id": "0efe5e2a-35e2-466b-90ff-2aac5db8c460",
   "metadata": {},
   "source": [
    "Train and Test on the Training Dataset itself: **Only to check if the model is overfitting.**"
   ]
  },
  {
   "cell_type": "code",
   "execution_count": 133,
   "id": "909b77cd-328e-4a4b-9e66-7033974e50cd",
   "metadata": {},
   "outputs": [
    {
     "name": "stdout",
     "output_type": "stream",
     "text": [
      "              precision    recall  f1-score   support\n",
      "\n",
      "           0       0.77      0.71      0.74       187\n",
      "           1       0.67      0.73      0.70       149\n",
      "\n",
      "    accuracy                           0.72       336\n",
      "   macro avg       0.72      0.72      0.72       336\n",
      "weighted avg       0.72      0.72      0.72       336\n",
      "\n"
     ]
    },
    {
     "data": {
      "image/png": "[encoded data removed]",
      "text/plain": [
       "<Figure size 640x480 with 2 Axes>"
      ]
     },
     "metadata": {},
     "output_type": "display_data"
    }
   ],
   "source": [
    "model = LogisticRegression(class_weight='balanced', random_state=42)\n",
    "\n",
    "model_report(model, X_train_pca, X_train_pca, y_train, y_train)  # Train on training and test on the training dataset"
   ]
  },
  {
   "cell_type": "markdown",
   "id": "ddbfe4f2-8816-46a1-a173-61c4e5077757",
   "metadata": {},
   "source": [
    "**Validation Task:**"
   ]
  },
  {
   "cell_type": "code",
   "execution_count": 134,
   "id": "01641118-51e0-41a1-aa4d-7c3d5479526a",
   "metadata": {},
   "outputs": [
    {
     "name": "stdout",
     "output_type": "stream",
     "text": [
      "              precision    recall  f1-score   support\n",
      "\n",
      "           0       0.65      0.44      0.53        34\n",
      "           1       0.42      0.64      0.51        22\n",
      "\n",
      "    accuracy                           0.52        56\n",
      "   macro avg       0.54      0.54      0.52        56\n",
      "weighted avg       0.56      0.52      0.52        56\n",
      "\n"
     ]
    },
    {
     "data": {
      "image/png": "[encoded data removed]",
      "text/plain": [
       "<Figure size 640x480 with 2 Axes>"
      ]
     },
     "metadata": {},
     "output_type": "display_data"
    }
   ],
   "source": [
    "model_report(model, X_train_pca, X_val_pca, y_train, y_val)  # Train on training and test on the validation dataset"
   ]
  },
  {
   "cell_type": "markdown",
   "id": "82388462-1855-4832-996b-28326efe43b1",
   "metadata": {},
   "source": [
    "**Testing Task:**\n",
    "<br>We will take the entire train dataset -> Train plus validation dataset."
   ]
  },
  {
   "cell_type": "code",
   "execution_count": 135,
   "id": "325ed345-9a5b-47df-adf9-b14ed0b5d903",
   "metadata": {},
   "outputs": [
    {
     "name": "stdout",
     "output_type": "stream",
     "text": [
      "              precision    recall  f1-score   support\n",
      "\n",
      "           0       0.38      0.67      0.48        30\n",
      "           1       0.76      0.48      0.59        64\n",
      "\n",
      "    accuracy                           0.54        94\n",
      "   macro avg       0.57      0.58      0.54        94\n",
      "weighted avg       0.64      0.54      0.56        94\n",
      "\n"
     ]
    },
    {
     "data": {
      "image/png": "[encoded data removed]",
      "text/plain": [
       "<Figure size 640x480 with 2 Axes>"
      ]
     },
     "metadata": {},
     "output_type": "display_data"
    }
   ],
   "source": [
    "model_report(model, X_train_val_pca, X_test_pca, y_train_val, y_test)  # Test on the final unseen test dataset -> Train on Training + Validation dataset."
   ]
  },
  {
   "cell_type": "markdown",
   "id": "9fc7bff2-d3b8-4d98-ae0a-df9d27972b48",
   "metadata": {},
   "source": [
    "**Results:**\n",
    "1. **Accuracy** -> The accuracy on the training dataset is 72%, which decreases to 52% in validation and goes up to 54% in the test dataset. This shows that the model is **overfitting** to the training data. We can go for techniques like **cross-validation** to avoid overfitting.\n",
    "3. **Precision** -> In training and validation, the precision is higher for class 0 as compared to class 1, however in the test data it is the opposite. Despite the shift, the overall precision is not optimal for either of the datasets. This shows we need to handle **class imbalance**.\n",
    "5. **Recall** -> Similar to precision, we can see the Recall has shifted in the test set too. The model is struggling to identify class 1 in the test dataset.\n",
    "6. **F-1 score** -> F-1 score has shown a similar trend as precision and recall.\n",
    "\n",
    "**-> The model is overfitting to the training dataset.**\n",
    "<br>**-> The model shows inconsistent performance on the classes showing it is struggling to generalize.**"
   ]
  },
  {
   "cell_type": "markdown",
   "id": "d7e7172b-177d-4f1a-8c8a-923e38f239fd",
   "metadata": {},
   "source": [
    "**Model Deployment:**\n",
    "\n",
    "Here we can deploy our final model to be used for predicting any new unseeen datasets. Here we have trained our model on the entire dataset (training plus test)."
   ]
  },
  {
   "cell_type": "code",
   "execution_count": 138,
   "id": "65a98a9b-82d6-4c87-9a70-e78ab2a742df",
   "metadata": {},
   "outputs": [],
   "source": [
    "from joblib import dump, load\n",
    "\n",
    "scaler = StandardScaler()\n",
    "X_scaled = scaler.fit_transform(X)\n",
    "\n",
    "pca = PCA(n_components=20, random_state=42)\n",
    "X_pca = pca.fit_transform(X)\n",
    "\n",
    "final_model = LogisticRegression(class_weight='balanced', random_state=42)\n",
    "\n",
    "final_model.fit(X_pca, y)\n",
    "\n",
    "dump(final_model, 'deception_detection_model.joblib')   # Save the model as .joblib file for future use\n",
    "\n",
    "loaded_model = load('deception_detection_model.joblib')   # The model can be loaded in this way\n",
    "\n",
    "#loaded_model.predict()   # We can predict using the saved model -> Input will be a feature matrix derived from PCA."
   ]
  },
  {
   "cell_type": "markdown",
   "id": "939fa364-e393-4a3f-9a4f-7df706fb7396",
   "metadata": {},
   "source": [
    "## 7. Conclusions"
   ]
  },
  {
   "cell_type": "markdown",
   "id": "ce824275-bca0-4ff5-be75-b5695c9cc058",
   "metadata": {},
   "source": [
    "In this project, we addressed the problem of **deception detection using machine learning**. We have achieved an **accuracy of 54%** using a **LogisticRegression** model on the test data. This model can be used to classify any unseen data in the future.  \n",
    "\n",
    "Although we have tried to experiment and get good results, there are still a few points for improvement:\n",
    "1. We can gather **larger amounts of data** to get better results with our models. The model is not able to capture important features using such a small dataset and tends to overfit. If we do not have more data, we can try going for **data augmentation** as well.\n",
    "2. We can try to **balance the dataset** by introducing almost equal amounts of samples from both classes. This can help us improve the poor precision and recall we saw in our results.\n",
    "4. We can go **feature selection**. We can drop some of the features which have very low correlation with our label before going for PCA.\n",
    "5. We can work with **experts in audio analysis and psychology** to better understand the features that need to be extracted and how they can be interpreted. Extracting features that are more relevant to our problem can help us get better results.\n",
    "6. We can try working with **deep learning models such as RNN** to predict the class here. Such models have shown better accuracy as supported by some of the papers mentioned in the references."
   ]
  },
  {
   "cell_type": "markdown",
   "id": "3428f0c3-c708-4331-8db6-96a7e96e6f7e",
   "metadata": {},
   "source": [
    "## 8. References"
   ]
  },
  {
   "cell_type": "markdown",
   "id": "c15cd018-c63e-4117-9c1b-a7d8f85087b9",
   "metadata": {},
   "source": [
    "A. R. Bhamare, S. Katharguppe and J. Silviya Nancy, \"Deep Neural Networks for Lie Detection with Attention on Bio-signals,\" 2020 7th International Conference on Soft Computing & Machine Intelligence (ISCMI), Stockholm, Sweden, 2020: https://ieeexplore.ieee.org/document/9311575\n",
    "\n",
    "Xiaohe Fan, Heming Zhao, Xueqin Chen, Cheng Fan and Shuxi Chen, \"Deceptive Speech Detection based on sparse representation,\" 2016 IEEE 12th International Colloquium on Signal Processing & Its Applications (CSPA), Malacca City, 2016: https://ieeexplore.ieee.org/document/7515793\n",
    "\n",
    "Enhancing Lie Detection Accuracy: A Comparative Study of Classic ML, CNN, and GCN Models using Audio-Visual Features: https://arxiv.org/html/2411.08885v1\n",
    "\n",
    "Shanjita Akter Prome, Neethiahnanthan Ari Ragavan, Md Rafiqul Islam, David Asirvatham, Anasuya Jegathevi Jegathesan, \n",
    "Deception detection using machine learning (ML) and deep learning (DL) techniques: A systematic review \r\n",
    "Natural Language Processing Journa ,\r\n",
    "Volume 6,\r\n",
    ": https://www.sciencedirect.com/science/article/pii/S2949719124000050\n",
    "\n",
    "https://www.cs.columbia.edu/speech/cxd/deceptionpapers.html\n",
    "\n",
    "https://medium.com/analytics-vidhya/understanding-the-mel-spectrogram-fca2afa2ce5324,\r\n"
   ]
  }
 ],
 "metadata": {
  "kernelspec": {
   "display_name": "Python 3 (ipykernel)",
   "language": "python",
   "name": "python3"
  },
  "language_info": {
   "codemirror_mode": {
    "name": "ipython",
    "version": 3
   },
   "file_extension": ".py",
   "mimetype": "text/x-python",
   "name": "python",
   "nbconvert_exporter": "python",
   "pygments_lexer": "ipython3",
   "version": "3.12.4"
  }
 },
 "nbformat": 4,
 "nbformat_minor": 5
}
